{
 "cells": [
  {
   "cell_type": "code",
   "execution_count": 1,
   "id": "bf02f29a",
   "metadata": {},
   "outputs": [],
   "source": [
    "import pandas as pd\n",
    "import numpy as np\n",
    "import matplotlib.pyplot as plt\n",
    "import glob\n",
    "from datetime import datetime\n",
    "import seaborn as sns\n",
    "%matplotlib inline"
   ]
  },
  {
   "cell_type": "markdown",
   "id": "e29f71ff",
   "metadata": {},
   "source": [
    "## Scenario\n",
    "\n",
    "I am given a task to analyze data for Cyclistic, a bike-share company in Chicago. The director of marketing believes the company’s future success depends on maximizing the number of annual memberships. Therefore, I will display how casual riders and annual members use Cyclistic bikes differently. From these insights, I will design a new marketing strategy to convert casual riders into annual members. But first, I will show my work, so my findings will be backed up with compelling data insights and professional data visualizations."
   ]
  },
  {
   "cell_type": "markdown",
   "id": "445c2f50",
   "metadata": {},
   "source": [
    "## About the Company\n",
    "\n",
    "In 2016, Cyclistic launched a successful bike-share offering. Since then, the program has grown to a fleet of 5,824 bicycles that are geotracked and locked into a network of 692 stations across Chicago. The bikes can be unlocked from one station and returned to any other station in the system anytime.\n",
    "\n",
    "Until now, Cyclistic’s marketing strategy relied on building general awareness and appealing to broad consumer segments. One approach that helped make these things possible was the flexibility of its pricing plans: single-ride passes, full-day passes, and annual memberships. Customers who purchase single-ride or full-day passes are referred to as casual riders. Customers who purchase annual memberships are Cyclistic members.\n",
    "Cyclistic’s finance analysts have concluded that annual members are much more profitable than casual riders. Although the pricing flexibility helps Cyclistic attract more customers, Moreno believes that maximizing the number of annual members will be key to future growth. Rather than creating a marketing campaign that targets all-new customers, Moreno believes there is a very good chance to convert casual riders into members. She notes that casual riders are already aware of the Cyclistic program and have chosen Cyclistic for their mobility needs.\n",
    "\n",
    "Moreno has set a clear goal: Design marketing strategies aimed at converting casual riders into annual members. In order to do that, however, the marketing analyst team needs to better understand how annual members and casual riders differ, why casual riders would buy a membership, and how digital media could affect their marketing tactics. Moreno and her team are interested in analyzing the Cyclistic historical bike trip data to identify trends."
   ]
  },
  {
   "cell_type": "markdown",
   "id": "fbb3abe1",
   "metadata": {},
   "source": [
    "## Upload Data"
   ]
  },
  {
   "cell_type": "code",
   "execution_count": 2,
   "id": "221be941",
   "metadata": {},
   "outputs": [],
   "source": [
    "%%capture\n",
    "path = '/Users/chrisgabriel/Desktop/Case Study 1/Case Study 1 copy'\n",
    "all_files = glob.glob(path + '/*.csv') \n",
    "print(all_files); # glob will take all the csv data stored within a file"
   ]
  },
  {
   "cell_type": "code",
   "execution_count": 3,
   "id": "7ce03fa9",
   "metadata": {},
   "outputs": [],
   "source": [
    "li = [] #creating an empty list bracket to store csv files"
   ]
  },
  {
   "cell_type": "code",
   "execution_count": 4,
   "id": "fa09a31c",
   "metadata": {},
   "outputs": [],
   "source": [
    "for filename in all_files:\n",
    "    df = pd.read_csv(filename, index_col=None, header=0) # for every file name in our path \"all_files\", we will read it as pd\n",
    "    li.append(df) #append will combine my data frames under the empty list bracket created"
   ]
  },
  {
   "cell_type": "code",
   "execution_count": 5,
   "id": "cc551360",
   "metadata": {},
   "outputs": [
    {
     "data": {
      "text/html": [
       "<div>\n",
       "<style scoped>\n",
       "    .dataframe tbody tr th:only-of-type {\n",
       "        vertical-align: middle;\n",
       "    }\n",
       "\n",
       "    .dataframe tbody tr th {\n",
       "        vertical-align: top;\n",
       "    }\n",
       "\n",
       "    .dataframe thead th {\n",
       "        text-align: right;\n",
       "    }\n",
       "</style>\n",
       "<table border=\"1\" class=\"dataframe\">\n",
       "  <thead>\n",
       "    <tr style=\"text-align: right;\">\n",
       "      <th></th>\n",
       "      <th>ride_id</th>\n",
       "      <th>rideable_type</th>\n",
       "      <th>started_at</th>\n",
       "      <th>ended_at</th>\n",
       "      <th>start_station_name</th>\n",
       "      <th>start_station_id</th>\n",
       "      <th>end_station_name</th>\n",
       "      <th>end_station_id</th>\n",
       "      <th>start_lat</th>\n",
       "      <th>start_lng</th>\n",
       "      <th>end_lat</th>\n",
       "      <th>end_lng</th>\n",
       "      <th>member_casual</th>\n",
       "    </tr>\n",
       "  </thead>\n",
       "  <tbody>\n",
       "    <tr>\n",
       "      <th>0</th>\n",
       "      <td>BD0A6FF6FFF9B921</td>\n",
       "      <td>electric_bike</td>\n",
       "      <td>2020-11-01 13:36:00</td>\n",
       "      <td>2020-11-01 13:45:40</td>\n",
       "      <td>Dearborn St &amp; Erie St</td>\n",
       "      <td>110.0</td>\n",
       "      <td>St. Clair St &amp; Erie St</td>\n",
       "      <td>211.0</td>\n",
       "      <td>41.894177</td>\n",
       "      <td>-87.629127</td>\n",
       "      <td>41.894434</td>\n",
       "      <td>-87.623379</td>\n",
       "      <td>casual</td>\n",
       "    </tr>\n",
       "    <tr>\n",
       "      <th>1</th>\n",
       "      <td>96A7A7A4BDE4F82D</td>\n",
       "      <td>electric_bike</td>\n",
       "      <td>2020-11-01 10:03:26</td>\n",
       "      <td>2020-11-01 10:14:45</td>\n",
       "      <td>Franklin St &amp; Illinois St</td>\n",
       "      <td>672.0</td>\n",
       "      <td>Noble St &amp; Milwaukee Ave</td>\n",
       "      <td>29.0</td>\n",
       "      <td>41.890959</td>\n",
       "      <td>-87.635343</td>\n",
       "      <td>41.900675</td>\n",
       "      <td>-87.662480</td>\n",
       "      <td>casual</td>\n",
       "    </tr>\n",
       "    <tr>\n",
       "      <th>2</th>\n",
       "      <td>C61526D06582BDC5</td>\n",
       "      <td>electric_bike</td>\n",
       "      <td>2020-11-01 00:34:05</td>\n",
       "      <td>2020-11-01 01:03:06</td>\n",
       "      <td>Lake Shore Dr &amp; Monroe St</td>\n",
       "      <td>76.0</td>\n",
       "      <td>Federal St &amp; Polk St</td>\n",
       "      <td>41.0</td>\n",
       "      <td>41.880983</td>\n",
       "      <td>-87.616754</td>\n",
       "      <td>41.872054</td>\n",
       "      <td>-87.629550</td>\n",
       "      <td>casual</td>\n",
       "    </tr>\n",
       "    <tr>\n",
       "      <th>3</th>\n",
       "      <td>E533E89C32080B9E</td>\n",
       "      <td>electric_bike</td>\n",
       "      <td>2020-11-01 00:45:16</td>\n",
       "      <td>2020-11-01 00:54:31</td>\n",
       "      <td>Leavitt St &amp; Chicago Ave</td>\n",
       "      <td>659.0</td>\n",
       "      <td>Stave St &amp; Armitage Ave</td>\n",
       "      <td>185.0</td>\n",
       "      <td>41.895499</td>\n",
       "      <td>-87.682013</td>\n",
       "      <td>41.917744</td>\n",
       "      <td>-87.691392</td>\n",
       "      <td>casual</td>\n",
       "    </tr>\n",
       "    <tr>\n",
       "      <th>4</th>\n",
       "      <td>1C9F4EF18C168C60</td>\n",
       "      <td>electric_bike</td>\n",
       "      <td>2020-11-01 15:43:25</td>\n",
       "      <td>2020-11-01 16:16:52</td>\n",
       "      <td>Buckingham Fountain</td>\n",
       "      <td>2.0</td>\n",
       "      <td>Buckingham Fountain</td>\n",
       "      <td>2.0</td>\n",
       "      <td>41.876497</td>\n",
       "      <td>-87.620358</td>\n",
       "      <td>41.876448</td>\n",
       "      <td>-87.620338</td>\n",
       "      <td>casual</td>\n",
       "    </tr>\n",
       "    <tr>\n",
       "      <th>...</th>\n",
       "      <td>...</td>\n",
       "      <td>...</td>\n",
       "      <td>...</td>\n",
       "      <td>...</td>\n",
       "      <td>...</td>\n",
       "      <td>...</td>\n",
       "      <td>...</td>\n",
       "      <td>...</td>\n",
       "      <td>...</td>\n",
       "      <td>...</td>\n",
       "      <td>...</td>\n",
       "      <td>...</td>\n",
       "      <td>...</td>\n",
       "    </tr>\n",
       "    <tr>\n",
       "      <th>16048412</th>\n",
       "      <td>EF56D7D1D612AC11</td>\n",
       "      <td>electric_bike</td>\n",
       "      <td>2021-05-20 16:32:14</td>\n",
       "      <td>2021-05-20 16:35:39</td>\n",
       "      <td>Blackstone Ave &amp; Hyde Park Blvd</td>\n",
       "      <td>13398</td>\n",
       "      <td>NaN</td>\n",
       "      <td>NaN</td>\n",
       "      <td>41.802581</td>\n",
       "      <td>-87.590230</td>\n",
       "      <td>41.800000</td>\n",
       "      <td>-87.600000</td>\n",
       "      <td>member</td>\n",
       "    </tr>\n",
       "    <tr>\n",
       "      <th>16048413</th>\n",
       "      <td>745191CB9F21DE3C</td>\n",
       "      <td>classic_bike</td>\n",
       "      <td>2021-05-29 16:40:37</td>\n",
       "      <td>2021-05-29 17:22:37</td>\n",
       "      <td>Sheridan Rd &amp; Montrose Ave</td>\n",
       "      <td>TA1307000107</td>\n",
       "      <td>Michigan Ave &amp; Oak St</td>\n",
       "      <td>13042</td>\n",
       "      <td>41.961670</td>\n",
       "      <td>-87.654640</td>\n",
       "      <td>41.900960</td>\n",
       "      <td>-87.623777</td>\n",
       "      <td>casual</td>\n",
       "    </tr>\n",
       "    <tr>\n",
       "      <th>16048414</th>\n",
       "      <td>428575BAA5356BFF</td>\n",
       "      <td>electric_bike</td>\n",
       "      <td>2021-05-31 14:24:54</td>\n",
       "      <td>2021-05-31 14:31:38</td>\n",
       "      <td>Sheridan Rd &amp; Montrose Ave</td>\n",
       "      <td>TA1307000107</td>\n",
       "      <td>NaN</td>\n",
       "      <td>NaN</td>\n",
       "      <td>41.961525</td>\n",
       "      <td>-87.654651</td>\n",
       "      <td>41.950000</td>\n",
       "      <td>-87.650000</td>\n",
       "      <td>member</td>\n",
       "    </tr>\n",
       "    <tr>\n",
       "      <th>16048415</th>\n",
       "      <td>FC8A4A7AB7249662</td>\n",
       "      <td>electric_bike</td>\n",
       "      <td>2021-05-25 16:01:33</td>\n",
       "      <td>2021-05-25 16:07:37</td>\n",
       "      <td>Sheridan Rd &amp; Montrose Ave</td>\n",
       "      <td>TA1307000107</td>\n",
       "      <td>NaN</td>\n",
       "      <td>NaN</td>\n",
       "      <td>41.961654</td>\n",
       "      <td>-87.654721</td>\n",
       "      <td>41.980000</td>\n",
       "      <td>-87.660000</td>\n",
       "      <td>member</td>\n",
       "    </tr>\n",
       "    <tr>\n",
       "      <th>16048416</th>\n",
       "      <td>E873B8AA3EE84678</td>\n",
       "      <td>docked_bike</td>\n",
       "      <td>2021-05-12 12:22:14</td>\n",
       "      <td>2021-05-12 12:30:27</td>\n",
       "      <td>Sheridan Rd &amp; Montrose Ave</td>\n",
       "      <td>TA1307000107</td>\n",
       "      <td>Clark St &amp; Grace St</td>\n",
       "      <td>TA1307000127</td>\n",
       "      <td>41.961670</td>\n",
       "      <td>-87.654640</td>\n",
       "      <td>41.950780</td>\n",
       "      <td>-87.659172</td>\n",
       "      <td>casual</td>\n",
       "    </tr>\n",
       "  </tbody>\n",
       "</table>\n",
       "<p>16048417 rows × 13 columns</p>\n",
       "</div>"
      ],
      "text/plain": [
       "                   ride_id  rideable_type           started_at  \\\n",
       "0         BD0A6FF6FFF9B921  electric_bike  2020-11-01 13:36:00   \n",
       "1         96A7A7A4BDE4F82D  electric_bike  2020-11-01 10:03:26   \n",
       "2         C61526D06582BDC5  electric_bike  2020-11-01 00:34:05   \n",
       "3         E533E89C32080B9E  electric_bike  2020-11-01 00:45:16   \n",
       "4         1C9F4EF18C168C60  electric_bike  2020-11-01 15:43:25   \n",
       "...                    ...            ...                  ...   \n",
       "16048412  EF56D7D1D612AC11  electric_bike  2021-05-20 16:32:14   \n",
       "16048413  745191CB9F21DE3C   classic_bike  2021-05-29 16:40:37   \n",
       "16048414  428575BAA5356BFF  electric_bike  2021-05-31 14:24:54   \n",
       "16048415  FC8A4A7AB7249662  electric_bike  2021-05-25 16:01:33   \n",
       "16048416  E873B8AA3EE84678    docked_bike  2021-05-12 12:22:14   \n",
       "\n",
       "                     ended_at               start_station_name  \\\n",
       "0         2020-11-01 13:45:40            Dearborn St & Erie St   \n",
       "1         2020-11-01 10:14:45        Franklin St & Illinois St   \n",
       "2         2020-11-01 01:03:06        Lake Shore Dr & Monroe St   \n",
       "3         2020-11-01 00:54:31         Leavitt St & Chicago Ave   \n",
       "4         2020-11-01 16:16:52              Buckingham Fountain   \n",
       "...                       ...                              ...   \n",
       "16048412  2021-05-20 16:35:39  Blackstone Ave & Hyde Park Blvd   \n",
       "16048413  2021-05-29 17:22:37       Sheridan Rd & Montrose Ave   \n",
       "16048414  2021-05-31 14:31:38       Sheridan Rd & Montrose Ave   \n",
       "16048415  2021-05-25 16:07:37       Sheridan Rd & Montrose Ave   \n",
       "16048416  2021-05-12 12:30:27       Sheridan Rd & Montrose Ave   \n",
       "\n",
       "         start_station_id          end_station_name end_station_id  start_lat  \\\n",
       "0                   110.0    St. Clair St & Erie St          211.0  41.894177   \n",
       "1                   672.0  Noble St & Milwaukee Ave           29.0  41.890959   \n",
       "2                    76.0      Federal St & Polk St           41.0  41.880983   \n",
       "3                   659.0   Stave St & Armitage Ave          185.0  41.895499   \n",
       "4                     2.0       Buckingham Fountain            2.0  41.876497   \n",
       "...                   ...                       ...            ...        ...   \n",
       "16048412            13398                       NaN            NaN  41.802581   \n",
       "16048413     TA1307000107     Michigan Ave & Oak St          13042  41.961670   \n",
       "16048414     TA1307000107                       NaN            NaN  41.961525   \n",
       "16048415     TA1307000107                       NaN            NaN  41.961654   \n",
       "16048416     TA1307000107       Clark St & Grace St   TA1307000127  41.961670   \n",
       "\n",
       "          start_lng    end_lat    end_lng member_casual  \n",
       "0        -87.629127  41.894434 -87.623379        casual  \n",
       "1        -87.635343  41.900675 -87.662480        casual  \n",
       "2        -87.616754  41.872054 -87.629550        casual  \n",
       "3        -87.682013  41.917744 -87.691392        casual  \n",
       "4        -87.620358  41.876448 -87.620338        casual  \n",
       "...             ...        ...        ...           ...  \n",
       "16048412 -87.590230  41.800000 -87.600000        member  \n",
       "16048413 -87.654640  41.900960 -87.623777        casual  \n",
       "16048414 -87.654651  41.950000 -87.650000        member  \n",
       "16048415 -87.654721  41.980000 -87.660000        member  \n",
       "16048416 -87.654640  41.950780 -87.659172        casual  \n",
       "\n",
       "[16048417 rows x 13 columns]"
      ]
     },
     "execution_count": 5,
     "metadata": {},
     "output_type": "execute_result"
    }
   ],
   "source": [
    "#use the pd.concat() function to form my list of data frames into one data frame\n",
    "df = pd.concat(li, axis=0, ignore_index=True) \n",
    "df"
   ]
  },
  {
   "cell_type": "code",
   "execution_count": 6,
   "id": "0080cd23",
   "metadata": {},
   "outputs": [
    {
     "name": "stdout",
     "output_type": "stream",
     "text": [
      "<class 'pandas.core.frame.DataFrame'>\n",
      "RangeIndex: 16048417 entries, 0 to 16048416\n",
      "Data columns (total 13 columns):\n",
      " #   Column              Dtype  \n",
      "---  ------              -----  \n",
      " 0   ride_id             object \n",
      " 1   rideable_type       object \n",
      " 2   started_at          object \n",
      " 3   ended_at            object \n",
      " 4   start_station_name  object \n",
      " 5   start_station_id    object \n",
      " 6   end_station_name    object \n",
      " 7   end_station_id      object \n",
      " 8   start_lat           float64\n",
      " 9   start_lng           float64\n",
      " 10  end_lat             float64\n",
      " 11  end_lng             float64\n",
      " 12  member_casual       object \n",
      "dtypes: float64(4), object(9)\n",
      "memory usage: 1.6+ GB\n"
     ]
    }
   ],
   "source": [
    "# checking data types\n",
    "df.info() "
   ]
  },
  {
   "cell_type": "markdown",
   "id": "23414896",
   "metadata": {},
   "source": [
    "## Cleaning"
   ]
  },
  {
   "cell_type": "code",
   "execution_count": 7,
   "id": "2d415645",
   "metadata": {},
   "outputs": [],
   "source": [
    "# seperate date from start time\n",
    "df[['date','start_time']]= df['started_at'].str.split(' ', expand=True)"
   ]
  },
  {
   "cell_type": "code",
   "execution_count": 8,
   "id": "a52f23c7",
   "metadata": {},
   "outputs": [],
   "source": [
    "# seperate date from end time\n",
    "df[['date_1','end_time']]= df['ended_at'].str.split(' ', expand=True)# date_1"
   ]
  },
  {
   "cell_type": "code",
   "execution_count": 9,
   "id": "e2203d33",
   "metadata": {},
   "outputs": [],
   "source": [
    "# change format to calculate total time spent on bike\n",
    "df['end_time'] = pd.to_datetime(df['end_time'], format='%H:%M:%S')\n",
    "df['start_time'] = pd.to_datetime(df['start_time'], format='%H:%M:%S')"
   ]
  },
  {
   "cell_type": "code",
   "execution_count": 10,
   "id": "512a0bda",
   "metadata": {},
   "outputs": [],
   "source": [
    "# creating total time\n",
    "df['total_time'] = (df['end_time'] - df['start_time'])\n",
    "# total time will turn into total seconds\n",
    "# formula to create total time in minutes. total minutes = (# seconds x (1 min/60 seconds))\n",
    "df['total_time'] = round((df['end_time'] - df['start_time']).dt.total_seconds() / 60, 2)"
   ]
  },
  {
   "cell_type": "code",
   "execution_count": 11,
   "id": "b83c32cd",
   "metadata": {},
   "outputs": [],
   "source": [
    "# join lat and long into one column\n",
    "df['start_point'] = df['start_lat'].astype(str) + ',' + df['start_lng'].astype(str)\n",
    "df['end_point'] = df['end_lat'].astype(str) + ',' + df['end_lng'].astype(str)"
   ]
  },
  {
   "cell_type": "code",
   "execution_count": 12,
   "id": "ec59a4d1",
   "metadata": {},
   "outputs": [],
   "source": [
    "# changing the format for cleanliness\n",
    "df['end_time'] = pd.to_datetime(df['end_time'], format='%H:%M:%S').dt.strftime('%H:%M:%S')\n",
    "df['start_time'] = pd.to_datetime(df['start_time'], format='%H:%M:%S').dt.strftime('%H:%M:%S')\n",
    "df['date'] = pd.to_datetime(df['date'], format='%Y-%m-%d')"
   ]
  },
  {
   "cell_type": "code",
   "execution_count": 13,
   "id": "d7abcadc",
   "metadata": {},
   "outputs": [],
   "source": [
    "# creating a day of the week\n",
    "df['day_of_week'] = df['date'].dt.day_name()"
   ]
  },
  {
   "cell_type": "code",
   "execution_count": 14,
   "id": "fb1a7bdd",
   "metadata": {},
   "outputs": [],
   "source": [
    "# creating a month\n",
    "df['month'] = df['date'].dt.month_name()"
   ]
  },
  {
   "cell_type": "code",
   "execution_count": 15,
   "id": "8dd22603",
   "metadata": {},
   "outputs": [],
   "source": [
    "# creating year\n",
    "df['year'] = df['date'].dt.year"
   ]
  },
  {
   "cell_type": "code",
   "execution_count": 16,
   "id": "abcfa96c",
   "metadata": {},
   "outputs": [
    {
     "data": {
      "text/html": [
       "<div>\n",
       "<style scoped>\n",
       "    .dataframe tbody tr th:only-of-type {\n",
       "        vertical-align: middle;\n",
       "    }\n",
       "\n",
       "    .dataframe tbody tr th {\n",
       "        vertical-align: top;\n",
       "    }\n",
       "\n",
       "    .dataframe thead th {\n",
       "        text-align: right;\n",
       "    }\n",
       "</style>\n",
       "<table border=\"1\" class=\"dataframe\">\n",
       "  <thead>\n",
       "    <tr style=\"text-align: right;\">\n",
       "      <th></th>\n",
       "      <th>ride_id</th>\n",
       "      <th>rideable_type</th>\n",
       "      <th>start_station_name</th>\n",
       "      <th>start_station_id</th>\n",
       "      <th>end_station_name</th>\n",
       "      <th>end_station_id</th>\n",
       "      <th>member_casual</th>\n",
       "      <th>date</th>\n",
       "      <th>start_time</th>\n",
       "      <th>end_time</th>\n",
       "      <th>total_time</th>\n",
       "      <th>start_point</th>\n",
       "      <th>end_point</th>\n",
       "      <th>day_of_week</th>\n",
       "      <th>month</th>\n",
       "      <th>year</th>\n",
       "    </tr>\n",
       "  </thead>\n",
       "  <tbody>\n",
       "    <tr>\n",
       "      <th>0</th>\n",
       "      <td>BD0A6FF6FFF9B921</td>\n",
       "      <td>electric_bike</td>\n",
       "      <td>Dearborn St &amp; Erie St</td>\n",
       "      <td>110.0</td>\n",
       "      <td>St. Clair St &amp; Erie St</td>\n",
       "      <td>211.0</td>\n",
       "      <td>casual</td>\n",
       "      <td>2020-11-01</td>\n",
       "      <td>13:36:00</td>\n",
       "      <td>13:45:40</td>\n",
       "      <td>9.67</td>\n",
       "      <td>41.8941765,-87.62912733333333</td>\n",
       "      <td>41.89443416666667,-87.62337916666667</td>\n",
       "      <td>Sunday</td>\n",
       "      <td>November</td>\n",
       "      <td>2020</td>\n",
       "    </tr>\n",
       "    <tr>\n",
       "      <th>1</th>\n",
       "      <td>96A7A7A4BDE4F82D</td>\n",
       "      <td>electric_bike</td>\n",
       "      <td>Franklin St &amp; Illinois St</td>\n",
       "      <td>672.0</td>\n",
       "      <td>Noble St &amp; Milwaukee Ave</td>\n",
       "      <td>29.0</td>\n",
       "      <td>casual</td>\n",
       "      <td>2020-11-01</td>\n",
       "      <td>10:03:26</td>\n",
       "      <td>10:14:45</td>\n",
       "      <td>11.32</td>\n",
       "      <td>41.89095866666667,-87.63534283333334</td>\n",
       "      <td>41.900675,-87.66248033333333</td>\n",
       "      <td>Sunday</td>\n",
       "      <td>November</td>\n",
       "      <td>2020</td>\n",
       "    </tr>\n",
       "    <tr>\n",
       "      <th>2</th>\n",
       "      <td>C61526D06582BDC5</td>\n",
       "      <td>electric_bike</td>\n",
       "      <td>Lake Shore Dr &amp; Monroe St</td>\n",
       "      <td>76.0</td>\n",
       "      <td>Federal St &amp; Polk St</td>\n",
       "      <td>41.0</td>\n",
       "      <td>casual</td>\n",
       "      <td>2020-11-01</td>\n",
       "      <td>00:34:05</td>\n",
       "      <td>01:03:06</td>\n",
       "      <td>29.02</td>\n",
       "      <td>41.88098283333333,-87.61675416666667</td>\n",
       "      <td>41.8720545,-87.62955033333333</td>\n",
       "      <td>Sunday</td>\n",
       "      <td>November</td>\n",
       "      <td>2020</td>\n",
       "    </tr>\n",
       "    <tr>\n",
       "      <th>3</th>\n",
       "      <td>E533E89C32080B9E</td>\n",
       "      <td>electric_bike</td>\n",
       "      <td>Leavitt St &amp; Chicago Ave</td>\n",
       "      <td>659.0</td>\n",
       "      <td>Stave St &amp; Armitage Ave</td>\n",
       "      <td>185.0</td>\n",
       "      <td>casual</td>\n",
       "      <td>2020-11-01</td>\n",
       "      <td>00:45:16</td>\n",
       "      <td>00:54:31</td>\n",
       "      <td>9.25</td>\n",
       "      <td>41.89549916666667,-87.682013</td>\n",
       "      <td>41.9177445,-87.69139183333333</td>\n",
       "      <td>Sunday</td>\n",
       "      <td>November</td>\n",
       "      <td>2020</td>\n",
       "    </tr>\n",
       "    <tr>\n",
       "      <th>4</th>\n",
       "      <td>1C9F4EF18C168C60</td>\n",
       "      <td>electric_bike</td>\n",
       "      <td>Buckingham Fountain</td>\n",
       "      <td>2.0</td>\n",
       "      <td>Buckingham Fountain</td>\n",
       "      <td>2.0</td>\n",
       "      <td>casual</td>\n",
       "      <td>2020-11-01</td>\n",
       "      <td>15:43:25</td>\n",
       "      <td>16:16:52</td>\n",
       "      <td>33.45</td>\n",
       "      <td>41.87649733333333,-87.620358</td>\n",
       "      <td>41.876448333333336,-87.620338</td>\n",
       "      <td>Sunday</td>\n",
       "      <td>November</td>\n",
       "      <td>2020</td>\n",
       "    </tr>\n",
       "    <tr>\n",
       "      <th>...</th>\n",
       "      <td>...</td>\n",
       "      <td>...</td>\n",
       "      <td>...</td>\n",
       "      <td>...</td>\n",
       "      <td>...</td>\n",
       "      <td>...</td>\n",
       "      <td>...</td>\n",
       "      <td>...</td>\n",
       "      <td>...</td>\n",
       "      <td>...</td>\n",
       "      <td>...</td>\n",
       "      <td>...</td>\n",
       "      <td>...</td>\n",
       "      <td>...</td>\n",
       "      <td>...</td>\n",
       "      <td>...</td>\n",
       "    </tr>\n",
       "    <tr>\n",
       "      <th>16048412</th>\n",
       "      <td>EF56D7D1D612AC11</td>\n",
       "      <td>electric_bike</td>\n",
       "      <td>Blackstone Ave &amp; Hyde Park Blvd</td>\n",
       "      <td>13398</td>\n",
       "      <td>NaN</td>\n",
       "      <td>NaN</td>\n",
       "      <td>member</td>\n",
       "      <td>2021-05-20</td>\n",
       "      <td>16:32:14</td>\n",
       "      <td>16:35:39</td>\n",
       "      <td>3.42</td>\n",
       "      <td>41.802581333333336,-87.59022983333334</td>\n",
       "      <td>41.8,-87.6</td>\n",
       "      <td>Thursday</td>\n",
       "      <td>May</td>\n",
       "      <td>2021</td>\n",
       "    </tr>\n",
       "    <tr>\n",
       "      <th>16048413</th>\n",
       "      <td>745191CB9F21DE3C</td>\n",
       "      <td>classic_bike</td>\n",
       "      <td>Sheridan Rd &amp; Montrose Ave</td>\n",
       "      <td>TA1307000107</td>\n",
       "      <td>Michigan Ave &amp; Oak St</td>\n",
       "      <td>13042</td>\n",
       "      <td>casual</td>\n",
       "      <td>2021-05-29</td>\n",
       "      <td>16:40:37</td>\n",
       "      <td>17:22:37</td>\n",
       "      <td>42.00</td>\n",
       "      <td>41.96167,-87.65464</td>\n",
       "      <td>41.90096039,-87.62377664</td>\n",
       "      <td>Saturday</td>\n",
       "      <td>May</td>\n",
       "      <td>2021</td>\n",
       "    </tr>\n",
       "    <tr>\n",
       "      <th>16048414</th>\n",
       "      <td>428575BAA5356BFF</td>\n",
       "      <td>electric_bike</td>\n",
       "      <td>Sheridan Rd &amp; Montrose Ave</td>\n",
       "      <td>TA1307000107</td>\n",
       "      <td>NaN</td>\n",
       "      <td>NaN</td>\n",
       "      <td>member</td>\n",
       "      <td>2021-05-31</td>\n",
       "      <td>14:24:54</td>\n",
       "      <td>14:31:38</td>\n",
       "      <td>6.73</td>\n",
       "      <td>41.9615245,-87.6546505</td>\n",
       "      <td>41.95,-87.65</td>\n",
       "      <td>Monday</td>\n",
       "      <td>May</td>\n",
       "      <td>2021</td>\n",
       "    </tr>\n",
       "    <tr>\n",
       "      <th>16048415</th>\n",
       "      <td>FC8A4A7AB7249662</td>\n",
       "      <td>electric_bike</td>\n",
       "      <td>Sheridan Rd &amp; Montrose Ave</td>\n",
       "      <td>TA1307000107</td>\n",
       "      <td>NaN</td>\n",
       "      <td>NaN</td>\n",
       "      <td>member</td>\n",
       "      <td>2021-05-25</td>\n",
       "      <td>16:01:33</td>\n",
       "      <td>16:07:37</td>\n",
       "      <td>6.07</td>\n",
       "      <td>41.961654,-87.654721</td>\n",
       "      <td>41.98,-87.66</td>\n",
       "      <td>Tuesday</td>\n",
       "      <td>May</td>\n",
       "      <td>2021</td>\n",
       "    </tr>\n",
       "    <tr>\n",
       "      <th>16048416</th>\n",
       "      <td>E873B8AA3EE84678</td>\n",
       "      <td>docked_bike</td>\n",
       "      <td>Sheridan Rd &amp; Montrose Ave</td>\n",
       "      <td>TA1307000107</td>\n",
       "      <td>Clark St &amp; Grace St</td>\n",
       "      <td>TA1307000127</td>\n",
       "      <td>casual</td>\n",
       "      <td>2021-05-12</td>\n",
       "      <td>12:22:14</td>\n",
       "      <td>12:30:27</td>\n",
       "      <td>8.22</td>\n",
       "      <td>41.96167,-87.65464</td>\n",
       "      <td>41.95078,-87.659172</td>\n",
       "      <td>Wednesday</td>\n",
       "      <td>May</td>\n",
       "      <td>2021</td>\n",
       "    </tr>\n",
       "  </tbody>\n",
       "</table>\n",
       "<p>16048417 rows × 16 columns</p>\n",
       "</div>"
      ],
      "text/plain": [
       "                   ride_id  rideable_type               start_station_name  \\\n",
       "0         BD0A6FF6FFF9B921  electric_bike            Dearborn St & Erie St   \n",
       "1         96A7A7A4BDE4F82D  electric_bike        Franklin St & Illinois St   \n",
       "2         C61526D06582BDC5  electric_bike        Lake Shore Dr & Monroe St   \n",
       "3         E533E89C32080B9E  electric_bike         Leavitt St & Chicago Ave   \n",
       "4         1C9F4EF18C168C60  electric_bike              Buckingham Fountain   \n",
       "...                    ...            ...                              ...   \n",
       "16048412  EF56D7D1D612AC11  electric_bike  Blackstone Ave & Hyde Park Blvd   \n",
       "16048413  745191CB9F21DE3C   classic_bike       Sheridan Rd & Montrose Ave   \n",
       "16048414  428575BAA5356BFF  electric_bike       Sheridan Rd & Montrose Ave   \n",
       "16048415  FC8A4A7AB7249662  electric_bike       Sheridan Rd & Montrose Ave   \n",
       "16048416  E873B8AA3EE84678    docked_bike       Sheridan Rd & Montrose Ave   \n",
       "\n",
       "         start_station_id          end_station_name end_station_id  \\\n",
       "0                   110.0    St. Clair St & Erie St          211.0   \n",
       "1                   672.0  Noble St & Milwaukee Ave           29.0   \n",
       "2                    76.0      Federal St & Polk St           41.0   \n",
       "3                   659.0   Stave St & Armitage Ave          185.0   \n",
       "4                     2.0       Buckingham Fountain            2.0   \n",
       "...                   ...                       ...            ...   \n",
       "16048412            13398                       NaN            NaN   \n",
       "16048413     TA1307000107     Michigan Ave & Oak St          13042   \n",
       "16048414     TA1307000107                       NaN            NaN   \n",
       "16048415     TA1307000107                       NaN            NaN   \n",
       "16048416     TA1307000107       Clark St & Grace St   TA1307000127   \n",
       "\n",
       "         member_casual       date start_time  end_time  total_time  \\\n",
       "0               casual 2020-11-01   13:36:00  13:45:40        9.67   \n",
       "1               casual 2020-11-01   10:03:26  10:14:45       11.32   \n",
       "2               casual 2020-11-01   00:34:05  01:03:06       29.02   \n",
       "3               casual 2020-11-01   00:45:16  00:54:31        9.25   \n",
       "4               casual 2020-11-01   15:43:25  16:16:52       33.45   \n",
       "...                ...        ...        ...       ...         ...   \n",
       "16048412        member 2021-05-20   16:32:14  16:35:39        3.42   \n",
       "16048413        casual 2021-05-29   16:40:37  17:22:37       42.00   \n",
       "16048414        member 2021-05-31   14:24:54  14:31:38        6.73   \n",
       "16048415        member 2021-05-25   16:01:33  16:07:37        6.07   \n",
       "16048416        casual 2021-05-12   12:22:14  12:30:27        8.22   \n",
       "\n",
       "                                    start_point  \\\n",
       "0                 41.8941765,-87.62912733333333   \n",
       "1          41.89095866666667,-87.63534283333334   \n",
       "2          41.88098283333333,-87.61675416666667   \n",
       "3                  41.89549916666667,-87.682013   \n",
       "4                  41.87649733333333,-87.620358   \n",
       "...                                         ...   \n",
       "16048412  41.802581333333336,-87.59022983333334   \n",
       "16048413                     41.96167,-87.65464   \n",
       "16048414                 41.9615245,-87.6546505   \n",
       "16048415                   41.961654,-87.654721   \n",
       "16048416                     41.96167,-87.65464   \n",
       "\n",
       "                                     end_point day_of_week     month  year  \n",
       "0         41.89443416666667,-87.62337916666667      Sunday  November  2020  \n",
       "1                 41.900675,-87.66248033333333      Sunday  November  2020  \n",
       "2                41.8720545,-87.62955033333333      Sunday  November  2020  \n",
       "3                41.9177445,-87.69139183333333      Sunday  November  2020  \n",
       "4                41.876448333333336,-87.620338      Sunday  November  2020  \n",
       "...                                        ...         ...       ...   ...  \n",
       "16048412                            41.8,-87.6    Thursday       May  2021  \n",
       "16048413              41.90096039,-87.62377664    Saturday       May  2021  \n",
       "16048414                          41.95,-87.65      Monday       May  2021  \n",
       "16048415                          41.98,-87.66     Tuesday       May  2021  \n",
       "16048416                   41.95078,-87.659172   Wednesday       May  2021  \n",
       "\n",
       "[16048417 rows x 16 columns]"
      ]
     },
     "execution_count": 16,
     "metadata": {},
     "output_type": "execute_result"
    }
   ],
   "source": [
    "# drop uneeded columns\n",
    "df= df.drop(['date_1','started_at','ended_at','start_lat','start_lng','end_lat','end_lng'], axis=1)# variables not needed\n",
    "df"
   ]
  },
  {
   "cell_type": "markdown",
   "id": "fe896d2d",
   "metadata": {},
   "source": [
    "The 'date' variable will display the full minute, then the percentage of the minute. In detail '33.35' will translate to '33' minutes and the '.35' will be 35% of 60 seconds(1 min), equaling 21 seconds. So in all, '33.35' = 33 min 21 sec."
   ]
  },
  {
   "cell_type": "code",
   "execution_count": 17,
   "id": "b76ffea3",
   "metadata": {
    "scrolled": true
   },
   "outputs": [
    {
     "name": "stdout",
     "output_type": "stream",
     "text": [
      "<class 'pandas.core.frame.DataFrame'>\n",
      "RangeIndex: 16048417 entries, 0 to 16048416\n",
      "Data columns (total 16 columns):\n",
      " #   Column              Dtype         \n",
      "---  ------              -----         \n",
      " 0   ride_id             object        \n",
      " 1   rideable_type       object        \n",
      " 2   start_station_name  object        \n",
      " 3   start_station_id    object        \n",
      " 4   end_station_name    object        \n",
      " 5   end_station_id      object        \n",
      " 6   member_casual       object        \n",
      " 7   date                datetime64[ns]\n",
      " 8   start_time          object        \n",
      " 9   end_time            object        \n",
      " 10  total_time          float64       \n",
      " 11  start_point         object        \n",
      " 12  end_point           object        \n",
      " 13  day_of_week         object        \n",
      " 14  month               object        \n",
      " 15  year                int64         \n",
      "dtypes: datetime64[ns](1), float64(1), int64(1), object(13)\n",
      "memory usage: 1.9+ GB\n"
     ]
    }
   ],
   "source": [
    "# data info pt 2\n",
    "df.info()"
   ]
  },
  {
   "cell_type": "markdown",
   "id": "b192e024",
   "metadata": {},
   "source": [
    "Now we have the appropriate date types for our analysis. "
   ]
  },
  {
   "cell_type": "code",
   "execution_count": 18,
   "id": "38a17b5e",
   "metadata": {},
   "outputs": [
    {
     "data": {
      "text/plain": [
       "ride_id                     0\n",
       "rideable_type               0\n",
       "start_station_name    1859687\n",
       "start_station_id      1860442\n",
       "end_station_name      1999705\n",
       "end_station_id        2000307\n",
       "member_casual               0\n",
       "date                        0\n",
       "start_time                  0\n",
       "end_time                    0\n",
       "total_time                  0\n",
       "start_point                 0\n",
       "end_point                   0\n",
       "day_of_week                 0\n",
       "month                       0\n",
       "year                        0\n",
       "dtype: int64"
      ]
     },
     "execution_count": 18,
     "metadata": {},
     "output_type": "execute_result"
    }
   ],
   "source": [
    "# check for NA\n",
    "df.isnull().sum() # Several N/A values"
   ]
  },
  {
   "cell_type": "markdown",
   "id": "df714d75",
   "metadata": {},
   "source": [
    "Notice many missing data, although columns with NA are not entirely significant in this project since we have approximate coordinates for the start and end points. "
   ]
  },
  {
   "cell_type": "markdown",
   "id": "24eb2021",
   "metadata": {},
   "source": [
    "## Data Exploration"
   ]
  },
  {
   "cell_type": "code",
   "execution_count": 19,
   "id": "70bdff66",
   "metadata": {},
   "outputs": [
    {
     "data": {
      "text/plain": [
       "member    9352594\n",
       "casual    6695823\n",
       "Name: member_casual, dtype: int64"
      ]
     },
     "execution_count": 19,
     "metadata": {},
     "output_type": "execute_result"
    }
   ],
   "source": [
    "# customer count\n",
    "df['member_casual'].value_counts()"
   ]
  },
  {
   "cell_type": "markdown",
   "id": "99aeaa70",
   "metadata": {},
   "source": [
    "Let's determine the member vs casual ratio:\n",
    "\n",
    "(9352594 Members / 6695823 Casual) = (1.4 Members/ 1 Casual)\n",
    "In other words, if you have 1 casual, you can expect to find approximately 1.4 members in the given population or context. This ratio provides a relative comparison between the number of members and casuals and helps understand the proportion or relationship between the two groups."
   ]
  },
  {
   "cell_type": "code",
   "execution_count": 20,
   "id": "69330358",
   "metadata": {},
   "outputs": [
    {
     "data": {
      "text/plain": [
       "classic_bike     6649756\n",
       "electric_bike    6340477\n",
       "docked_bike      3058184\n",
       "Name: rideable_type, dtype: int64"
      ]
     },
     "execution_count": 20,
     "metadata": {},
     "output_type": "execute_result"
    }
   ],
   "source": [
    "# bike class\n",
    "df['rideable_type'].value_counts()"
   ]
  },
  {
   "cell_type": "markdown",
   "id": "3bcbc6e0",
   "metadata": {},
   "source": [
    "The classic bike seems to be the most popular product."
   ]
  },
  {
   "cell_type": "code",
   "execution_count": 21,
   "id": "dd26ec13",
   "metadata": {},
   "outputs": [
    {
     "data": {
      "text/plain": [
       "0    Saturday\n",
       "Name: day_of_week, dtype: object"
      ]
     },
     "execution_count": 21,
     "metadata": {},
     "output_type": "execute_result"
    }
   ],
   "source": [
    "# most active day\n",
    "df['day_of_week'].mode()"
   ]
  },
  {
   "cell_type": "markdown",
   "id": "1688e9f3",
   "metadata": {},
   "source": [
    "Saturdays are the most active day."
   ]
  },
  {
   "cell_type": "code",
   "execution_count": 22,
   "id": "a393a1e3",
   "metadata": {},
   "outputs": [
    {
     "name": "stdout",
     "output_type": "stream",
     "text": [
      "                          start_station_name  end_station_name\n",
      "Streeter Dr & Grand Ave               206418            209810\n",
      "Clark St & Elm St                     115776            114065\n",
      "Wells St & Concord Ln                 113621            114405\n",
      "Michigan Ave & Oak St                 113029            114485\n",
      "Millennium Park                       107503            109647\n",
      "Theater on the Lake                   105037            106848\n",
      "Wells St & Elm St                      98631             95863\n",
      "Kingsbury St & Kinzie St               96147             93226\n",
      "Clark St & Armitage Ave                91370             89452\n",
      "Broadway & Barry Ave                   90646             92232\n"
     ]
    }
   ],
   "source": [
    "# most popular stations\n",
    "# dropna() to leave out missing values\n",
    "top_10_start_locations = df['start_station_name'].dropna().value_counts().head(10)\n",
    "top_10_end_locations = df['end_station_name'].dropna().value_counts().head(10)\n",
    "\n",
    "result = pd.concat([top_10_start_locations, top_10_end_locations], axis=1)\n",
    "\n",
    "print(result)"
   ]
  },
  {
   "cell_type": "markdown",
   "id": "d9c7cf4c",
   "metadata": {},
   "source": [
    "I was able to find the most popular sites where customers pick up and drop off bikes. Further research has indicated a majority of the locations are within 5 - mile radius of many tourist attractions. "
   ]
  },
  {
   "cell_type": "markdown",
   "id": "d3ea7a31",
   "metadata": {},
   "source": [
    "## Pivot"
   ]
  },
  {
   "cell_type": "code",
   "execution_count": 23,
   "id": "a4baea7b",
   "metadata": {},
   "outputs": [
    {
     "data": {
      "text/html": [
       "<div>\n",
       "<style scoped>\n",
       "    .dataframe tbody tr th:only-of-type {\n",
       "        vertical-align: middle;\n",
       "    }\n",
       "\n",
       "    .dataframe tbody tr th {\n",
       "        vertical-align: top;\n",
       "    }\n",
       "\n",
       "    .dataframe thead th {\n",
       "        text-align: right;\n",
       "    }\n",
       "</style>\n",
       "<table border=\"1\" class=\"dataframe\">\n",
       "  <thead>\n",
       "    <tr style=\"text-align: right;\">\n",
       "      <th></th>\n",
       "      <th>total_time</th>\n",
       "    </tr>\n",
       "    <tr>\n",
       "      <th>member_casual</th>\n",
       "      <th></th>\n",
       "    </tr>\n",
       "  </thead>\n",
       "  <tbody>\n",
       "    <tr>\n",
       "      <th>casual</th>\n",
       "      <td>10.846506</td>\n",
       "    </tr>\n",
       "    <tr>\n",
       "      <th>member</th>\n",
       "      <td>9.168378</td>\n",
       "    </tr>\n",
       "    <tr>\n",
       "      <th>All</th>\n",
       "      <td>9.868537</td>\n",
       "    </tr>\n",
       "  </tbody>\n",
       "</table>\n",
       "</div>"
      ],
      "text/plain": [
       "               total_time\n",
       "member_casual            \n",
       "casual          10.846506\n",
       "member           9.168378\n",
       "All              9.868537"
      ]
     },
     "execution_count": 23,
     "metadata": {},
     "output_type": "execute_result"
    }
   ],
   "source": [
    "# Calculate the average ride_length for members and casual riders. Try rows = member_casual; Values = Average length\n",
    "pivot1= df[['member_casual','total_time']]\n",
    "rr = pivot1.pivot_table(index='member_casual',\n",
    "               aggfunc='mean', margins=True)\n",
    "rr"
   ]
  },
  {
   "cell_type": "markdown",
   "id": "b6163834",
   "metadata": {},
   "source": [
    "Data suggest that casual riders occupy bikes for at least 1 minute and 40 seconds more than subscribed members. In total both parties ride on average 9 minutes and 51 seconds. "
   ]
  },
  {
   "cell_type": "code",
   "execution_count": 24,
   "id": "b5f468ce",
   "metadata": {},
   "outputs": [
    {
     "data": {
      "text/html": [
       "<div>\n",
       "<style scoped>\n",
       "    .dataframe tbody tr th:only-of-type {\n",
       "        vertical-align: middle;\n",
       "    }\n",
       "\n",
       "    .dataframe tbody tr th {\n",
       "        vertical-align: top;\n",
       "    }\n",
       "\n",
       "    .dataframe thead th {\n",
       "        text-align: right;\n",
       "    }\n",
       "</style>\n",
       "<table border=\"1\" class=\"dataframe\">\n",
       "  <thead>\n",
       "    <tr style=\"text-align: right;\">\n",
       "      <th>day_of_week</th>\n",
       "      <th>Friday</th>\n",
       "      <th>Monday</th>\n",
       "      <th>Saturday</th>\n",
       "      <th>Sunday</th>\n",
       "      <th>Thursday</th>\n",
       "      <th>Tuesday</th>\n",
       "      <th>Wednesday</th>\n",
       "      <th>All</th>\n",
       "    </tr>\n",
       "    <tr>\n",
       "      <th>member_casual</th>\n",
       "      <th></th>\n",
       "      <th></th>\n",
       "      <th></th>\n",
       "      <th></th>\n",
       "      <th></th>\n",
       "      <th></th>\n",
       "      <th></th>\n",
       "      <th></th>\n",
       "    </tr>\n",
       "  </thead>\n",
       "  <tbody>\n",
       "    <tr>\n",
       "      <th>casual</th>\n",
       "      <td>1.618043</td>\n",
       "      <td>14.509490</td>\n",
       "      <td>8.916982</td>\n",
       "      <td>19.197956</td>\n",
       "      <td>8.784248</td>\n",
       "      <td>11.661031</td>\n",
       "      <td>10.870798</td>\n",
       "      <td>10.846506</td>\n",
       "    </tr>\n",
       "    <tr>\n",
       "      <th>member</th>\n",
       "      <td>6.801472</td>\n",
       "      <td>10.076793</td>\n",
       "      <td>7.483171</td>\n",
       "      <td>11.797244</td>\n",
       "      <td>8.882983</td>\n",
       "      <td>9.892019</td>\n",
       "      <td>9.588465</td>\n",
       "      <td>9.168378</td>\n",
       "    </tr>\n",
       "    <tr>\n",
       "      <th>All</th>\n",
       "      <td>4.626600</td>\n",
       "      <td>11.734782</td>\n",
       "      <td>8.236811</td>\n",
       "      <td>15.614523</td>\n",
       "      <td>8.846922</td>\n",
       "      <td>10.497177</td>\n",
       "      <td>10.031246</td>\n",
       "      <td>9.868537</td>\n",
       "    </tr>\n",
       "  </tbody>\n",
       "</table>\n",
       "</div>"
      ],
      "text/plain": [
       "day_of_week      Friday     Monday  Saturday     Sunday  Thursday    Tuesday  \\\n",
       "member_casual                                                                  \n",
       "casual         1.618043  14.509490  8.916982  19.197956  8.784248  11.661031   \n",
       "member         6.801472  10.076793  7.483171  11.797244  8.882983   9.892019   \n",
       "All            4.626600  11.734782  8.236811  15.614523  8.846922  10.497177   \n",
       "\n",
       "day_of_week    Wednesday        All  \n",
       "member_casual                        \n",
       "casual         10.870798  10.846506  \n",
       "member          9.588465   9.168378  \n",
       "All            10.031246   9.868537  "
      ]
     },
     "execution_count": 24,
     "metadata": {},
     "output_type": "execute_result"
    }
   ],
   "source": [
    "# Calculate the average ride_length for users by day_of_week. Try columns = day_of_week; Rows =member_casual; Values = Average of ride_length.\n",
    "pivot2= df[['member_casual','total_time','day_of_week']]\n",
    "tt = pivot2.pivot_table(values='total_time', index=['member_casual'],\n",
    "                    columns='day_of_week', aggfunc='mean', margins=True)\n",
    "tt"
   ]
  },
  {
   "cell_type": "markdown",
   "id": "02367a1b",
   "metadata": {},
   "source": [
    "Data suggest that the highest bike usage occurs on Sunday, where casual users spend on average about 19 minutes on bikes. "
   ]
  },
  {
   "cell_type": "code",
   "execution_count": 25,
   "id": "c387a67e",
   "metadata": {},
   "outputs": [
    {
     "data": {
      "text/html": [
       "<div>\n",
       "<style scoped>\n",
       "    .dataframe tbody tr th:only-of-type {\n",
       "        vertical-align: middle;\n",
       "    }\n",
       "\n",
       "    .dataframe tbody tr th {\n",
       "        vertical-align: top;\n",
       "    }\n",
       "\n",
       "    .dataframe thead th {\n",
       "        text-align: right;\n",
       "    }\n",
       "</style>\n",
       "<table border=\"1\" class=\"dataframe\">\n",
       "  <thead>\n",
       "    <tr style=\"text-align: right;\">\n",
       "      <th>day_of_week</th>\n",
       "      <th>Friday</th>\n",
       "      <th>Monday</th>\n",
       "      <th>Saturday</th>\n",
       "      <th>Sunday</th>\n",
       "      <th>Thursday</th>\n",
       "      <th>Tuesday</th>\n",
       "      <th>Wednesday</th>\n",
       "      <th>All</th>\n",
       "    </tr>\n",
       "    <tr>\n",
       "      <th>member_casual</th>\n",
       "      <th></th>\n",
       "      <th></th>\n",
       "      <th></th>\n",
       "      <th></th>\n",
       "      <th></th>\n",
       "      <th></th>\n",
       "      <th></th>\n",
       "      <th></th>\n",
       "    </tr>\n",
       "  </thead>\n",
       "  <tbody>\n",
       "    <tr>\n",
       "      <th>casual</th>\n",
       "      <td>1567978.77</td>\n",
       "      <td>11053503.64</td>\n",
       "      <td>12759576.76</td>\n",
       "      <td>22961696.02</td>\n",
       "      <td>7236683.40</td>\n",
       "      <td>8659831.09</td>\n",
       "      <td>8387016.50</td>\n",
       "      <td>7.262629e+07</td>\n",
       "    </tr>\n",
       "    <tr>\n",
       "      <th>member</th>\n",
       "      <td>9117542.62</td>\n",
       "      <td>12847125.66</td>\n",
       "      <td>9664021.99</td>\n",
       "      <td>13245697.53</td>\n",
       "      <td>12718832.76</td>\n",
       "      <td>14128227.01</td>\n",
       "      <td>14026668.66</td>\n",
       "      <td>8.574812e+07</td>\n",
       "    </tr>\n",
       "    <tr>\n",
       "      <th>All</th>\n",
       "      <td>10685521.39</td>\n",
       "      <td>23900629.30</td>\n",
       "      <td>22423598.75</td>\n",
       "      <td>36207393.55</td>\n",
       "      <td>19955516.16</td>\n",
       "      <td>22788058.10</td>\n",
       "      <td>22413685.16</td>\n",
       "      <td>1.583744e+08</td>\n",
       "    </tr>\n",
       "  </tbody>\n",
       "</table>\n",
       "</div>"
      ],
      "text/plain": [
       "day_of_week         Friday       Monday     Saturday       Sunday  \\\n",
       "member_casual                                                       \n",
       "casual          1567978.77  11053503.64  12759576.76  22961696.02   \n",
       "member          9117542.62  12847125.66   9664021.99  13245697.53   \n",
       "All            10685521.39  23900629.30  22423598.75  36207393.55   \n",
       "\n",
       "day_of_week       Thursday      Tuesday    Wednesday           All  \n",
       "member_casual                                                       \n",
       "casual          7236683.40   8659831.09   8387016.50  7.262629e+07  \n",
       "member         12718832.76  14128227.01  14026668.66  8.574812e+07  \n",
       "All            19955516.16  22788058.10  22413685.16  1.583744e+08  "
      ]
     },
     "execution_count": 25,
     "metadata": {},
     "output_type": "execute_result"
    }
   ],
   "source": [
    "# Calculate the number of rides for users by day_of_week by adding Count of trip_id to Values.\n",
    "pivot3= df[['member_casual','total_time','day_of_week']]\n",
    "yy = pivot3.pivot_table(values='total_time', index=['member_casual'],\n",
    "                    columns='day_of_week', aggfunc='sum', margins=True)\n",
    "yy"
   ]
  },
  {
   "cell_type": "markdown",
   "id": "fede16c3",
   "metadata": {},
   "source": [
    "Data shows that subscribed members ride bikes more than casual customers, although previous findings suggest that casual riders stay on the bike longer. "
   ]
  },
  {
   "cell_type": "markdown",
   "id": "427c240f",
   "metadata": {},
   "source": [
    "## Graphics"
   ]
  },
  {
   "cell_type": "code",
   "execution_count": 26,
   "id": "07ee03a7",
   "metadata": {},
   "outputs": [],
   "source": [
    "# variables not needed, will help with performance \n",
    "df= df.drop(['start_station_name','start_station_id','end_station_name','end_station_id'], axis=1)"
   ]
  },
  {
   "cell_type": "code",
   "execution_count": 27,
   "id": "03d8b78a",
   "metadata": {},
   "outputs": [
    {
     "data": {
      "image/png": "[encoded data removed]",
      "text/plain": [
       "<Figure size 1400x600 with 2 Axes>"
      ]
     },
     "metadata": {},
     "output_type": "display_data"
    }
   ],
   "source": [
    "# create a pivot\n",
    "df_bike_type = df.pivot_table(values='total_time', index='year', columns='rideable_type', aggfunc='size')\n",
    "\n",
    "# sub plot formula\n",
    "fig, axes = plt.subplots(nrows=1, ncols=2, figsize=(14, 6))\n",
    "\n",
    "# Bar plot\n",
    "plt.subplot(1, 2, 1)\n",
    "df_bike_type.plot(kind='bar', ax=axes[0])\n",
    "plt.xlabel('Year')\n",
    "plt.ylabel('Count')\n",
    "plt.title('Total Counts per Year')\n",
    "\n",
    "# Pie plot\n",
    "plt.subplot(1, 2, 2)\n",
    "df['rideable_type'].value_counts().plot(kind='pie', title='Bike Class', ylabel='', autopct='%1.1f%%', ax=axes[1])\n",
    "\n",
    "plt.tight_layout()\n",
    "plt.show()\n"
   ]
  },
  {
   "cell_type": "code",
   "execution_count": 31,
   "id": "17c70780",
   "metadata": {},
   "outputs": [
    {
     "data": {
      "image/png": "[encoded data removed]",
      "text/plain": [
       "<Figure size 621.361x500 with 1 Axes>"
      ]
     },
     "metadata": {},
     "output_type": "display_data"
    }
   ],
   "source": [
    "### total time spent on bikes through the year\n",
    "df['year'] = df['year'].astype(int)  # Convert 'year' column to integers\n",
    "\n",
    "df = df.sort_values('year')  # Sort the DataFrame by 'year'\n",
    "\n",
    "sns.relplot(data=df, x=\"year\", y=\"total_time\", hue='member_casual', kind=\"line\")\n",
    "plt.xticks(df['year'].unique())  # Set x-ticks using unique 'year' values\n",
    "plt.title(\"Total Time vs Year\", fontsize=18)\n",
    "plt.xlabel(\"Year\", fontsize=14)\n",
    "plt.ylabel(\"Total Time\", fontsize=14)\n",
    "plt.show()"
   ]
  },
  {
   "cell_type": "code",
   "execution_count": 29,
   "id": "a6d391f3",
   "metadata": {
    "scrolled": true
   },
   "outputs": [
    {
     "data": {
      "text/plain": [
       "<AxesSubplot:title={'center':'Total Time vs Month'}, xlabel='Month', ylabel='Total Time'>"
      ]
     },
     "execution_count": 29,
     "metadata": {},
     "output_type": "execute_result"
    },
    {
     "data": {
      "image/png": "[encoded data removed]",
      "text/plain": [
       "<Figure size 1400x600 with 1 Axes>"
      ]
     },
     "metadata": {},
     "output_type": "display_data"
    }
   ],
   "source": [
    "# Create the bar plot\n",
    "ne= df.pivot_table(values='total_time', index='month',\n",
    "                    columns='member_casual', aggfunc='sum')\n",
    "ne.plot(title=\"Total Time vs Month\", kind= 'bar', ylabel = 'Total Time',\n",
    "        xlabel = 'Month',figsize= (14,6))"
   ]
  },
  {
   "cell_type": "code",
   "execution_count": 30,
   "id": "ec878053",
   "metadata": {},
   "outputs": [
    {
     "data": {
      "image/png": "[encoded data removed]",
      "text/plain": [
       "<Figure size 1400x600 with 2 Axes>"
      ]
     },
     "metadata": {},
     "output_type": "display_data"
    }
   ],
   "source": [
    "# Create the bar plot\n",
    "df_subset = df.pivot_table(values='total_time', index='day_of_week', columns='member_casual', aggfunc='size')\n",
    "\n",
    "fig, axes = plt.subplots(nrows=1, ncols=2, figsize=(14, 6))\n",
    "\n",
    "# Bar plot\n",
    "plt.subplot(1, 2, 1)\n",
    "df_subset.plot(kind='bar', ax=axes[0])\n",
    "plt.xlabel('Day')\n",
    "plt.ylabel('Count')\n",
    "plt.title('Total Counts per Day')\n",
    "\n",
    "# Pie plot\n",
    "plt.subplot(1, 2, 2)\n",
    "df['day_of_week'].value_counts().plot(kind='pie', title='Day of Week', ylabel='', autopct='%1.1f%%', ax=axes[1])\n",
    "\n",
    "plt.tight_layout()\n",
    "plt.show()"
   ]
  },
  {
   "cell_type": "markdown",
   "id": "4c84a9e6",
   "metadata": {},
   "source": [
    "## Conclusion "
   ]
  },
  {
   "cell_type": "markdown",
   "id": "1ae5ec6f",
   "metadata": {},
   "source": [
    "### Key Takeaways "
   ]
  },
  {
   "cell_type": "markdown",
   "id": "cdcd58a6",
   "metadata": {},
   "source": [
    "* Weather has a direct impact on bike usage. The winter season has shown little activity in both customer segments, although August and May exhibit high activity for our targeted group, casual riders. This may be due to travelers arriving during this season. \n",
    "\n",
    "* Between 2020-2021 there was a sharp decline in demand, most likely due to COVID-19. The line graph illustrates the interest of casual riders, showing consistent usage after 2021, meanwhile, member usage declined. After 2022 we see a steep incline in bike use for casual riders as the positive trend head toward 2024. \n",
    "\n",
    "* Data suggests that casual riders tend to have higher demand on the weekends, while members are more likely to use bikes during the weekdays by a significant difference. The stakeholder mentioned 30% of cyclists utilize bikes for work travel. Given that the company is based in Chicago, it can be assumed that most casual riders are tourists given the high demand during the weekends. \n",
    "\n",
    "* The type of bike plays a huge role in customer mobility and convenience. Electric-type bikes are on the rise, slowly taking over the classic bike. Electric bikes are great for the market pool, as they can cater to a diverse population, and enables access to those who can't operate a standard bike with pedals. "
   ]
  },
  {
   "cell_type": "markdown",
   "id": "8c6287b5",
   "metadata": {},
   "source": [
    "### Recommendations \n",
    "\n",
    "The business objective was to find ways to convert casual riders into members.\n",
    "\n",
    "1. Winter serves as the company's least active season. This can be an opportunity to allocate business expenses toward marketing for a promotion that will take place during the spring season. In May we see higher traffic within the casual rider base, so an incentive to sign up should be promoted and prioritized during this window.\n",
    "\n",
    "2. As mentioned before pricing plans are as follows; single-ride passes, full-day passes, and annual memberships. Weekends are the most active for casual riders, and on average tourists typically spend at least 3-5 days in Chicago. Price flexibility is possible within this company, so prices can be more appealing for customers who intend on having memberships but will have short-term use for the product. A minimal rate increase, depending on the activity within a given area, can be applied to one-time users. In contrast, more flexible rates will be advertised for those interested in becoming members.\n",
    "\n",
    "3. Target the most popular product. Electric motors are becoming the latest trend in transportation and will continue to serve as a convenience to customers with disabilities. Price flexibility in a form of a discount can be advertised to casual riders in demand for electric bikes. A deal can make membership more appealing to travelers. The most popular start and endpoints have been discovered, electric bikes can be stored at these sites to soothe increasing demand. \n"
   ]
  }
 ],
 "metadata": {
  "kernelspec": {
   "display_name": "Python 3 (ipykernel)",
   "language": "python",
   "name": "python3"
  },
  "language_info": {
   "codemirror_mode": {
    "name": "ipython",
    "version": 3
   },
   "file_extension": ".py",
   "mimetype": "text/x-python",
   "name": "python",
   "nbconvert_exporter": "python",
   "pygments_lexer": "ipython3",
   "version": "3.9.13"
  }
 },
 "nbformat": 4,
 "nbformat_minor": 5
}
